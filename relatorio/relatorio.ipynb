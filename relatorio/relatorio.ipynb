{
 "cells": [
  {
   "cell_type": "markdown",
   "metadata": {},
   "source": [
    "# Relatório Intermediário"
   ]
  },
  {
   "cell_type": "markdown",
   "metadata": {},
   "source": [
    "Gabriella Cukier"
   ]
  },
  {
   "cell_type": "markdown",
   "metadata": {},
   "source": [
    "### Bibliotecas"
   ]
  },
  {
   "cell_type": "code",
   "execution_count": 1,
   "metadata": {},
   "outputs": [],
   "source": [
    "import subprocess\n",
    "import time\n",
    "import pandas as pd\n",
    "import matplotlib.pyplot as plt"
   ]
  },
  {
   "cell_type": "markdown",
   "metadata": {},
   "source": [
    "### Funções utilizadas"
   ]
  },
  {
   "cell_type": "code",
   "execution_count": 2,
   "metadata": {},
   "outputs": [],
   "source": [
    "def roda_com_entrada(executavel, arquivo_in):\n",
    "    with open(arquivo_in) as f:\n",
    "        start = time.perf_counter()\n",
    "        proc = subprocess.run([f\"./exe/{executavel}\"], input=f.read(), text=True, capture_output=True)\n",
    "        end = time.perf_counter()\n",
    "        \n",
    "        return(proc.stdout, (end - start))"
   ]
  },
  {
   "cell_type": "code",
   "execution_count": 3,
   "metadata": {},
   "outputs": [],
   "source": [
    "def gera_resultados(path, arquivos, executaveis):\n",
    "    dic={}\n",
    "    for executavel in executaveis:\n",
    "        dic[executavel] = {\n",
    "            \"results\": None,\n",
    "            \"times\" : None\n",
    "        }\n",
    "        results=[]\n",
    "        times=[]\n",
    "        \n",
    "        print(executavel)\n",
    "        for arquivo_in in arquivos:\n",
    "\n",
    "            desempenho = roda_com_entrada(executavel, f\"{path}/{arquivo_in}\")\n",
    "            results.append(desempenho[0])\n",
    "            times.append(desempenho[1])\n",
    "            \n",
    "            print(arquivo_in)\n",
    "\n",
    "        dic[executavel][\"results\"] = results\n",
    "        dic[executavel][\"times\"] = times\n",
    "    return dic"
   ]
  },
  {
   "cell_type": "code",
   "execution_count": 4,
   "metadata": {},
   "outputs": [],
   "source": [
    "def multi_df(dic):\n",
    "    # https://www.geeksforgeeks.org/nested-dictionary-to-multiindex-dataframe/\n",
    "    reformed_dict = {}\n",
    "    for outerKey, innerDict in dic.items():\n",
    "        for innerKey, values in innerDict.items():\n",
    "            reformed_dict[(outerKey,\n",
    "                           innerKey)] = values\n",
    "\n",
    "    multiIndex_df = pd.DataFrame(reformed_dict)\n",
    "    return multiIndex_df"
   ]
  },
  {
   "cell_type": "markdown",
   "metadata": {},
   "source": [
    "## Resultados: Busca Exaustiva"
   ]
  },
  {
   "cell_type": "markdown",
   "metadata": {},
   "source": [
    "#### Metodologia da comparação"
   ]
  },
  {
   "cell_type": "markdown",
   "metadata": {},
   "source": [
    "Como a estratégia da busca exaustiva consiste em testar todas as possibilidades possíveis e assim achar uma solução ótima global, ela tende a ser mais compuacionalmente custosa. Desta forma, para fins de teste de desempenho, foi utilizado um intervalo com valores mais baixos referentes ao tamanho da sequência.\n",
    "\n",
    "Para comparar os desempenhos entre as implementações descritas anteriormente, foram criadas 10 entradas diferentes, com o valor inicial do tamanho da sequência começando em 1 e aumentando de 10 em 10.\n",
    "\n",
    "Os respectivos resultados de cada programa foram salvos em um dataframe, assim como os tempos de execução correspondentes. Por fim, foram elaborados gráficos comparativos e seus resultados analisados"
   ]
  },
  {
   "cell_type": "markdown",
   "metadata": {},
   "source": [
    "##### Rodando os executáveis com cada arquivo de entrada"
   ]
  },
  {
   "cell_type": "code",
   "execution_count": 8,
   "metadata": {},
   "outputs": [],
   "source": [
    "executaveis = [\"busca_exaustiva_smith_waterman\", \"exaustiva-paralela\"]\n",
    "arquivos=[]\n",
    "for i in range(5):\n",
    "    arquivos.append(f\"dna{i}.seq\")"
   ]
  },
  {
   "cell_type": "markdown",
   "metadata": {},
   "source": [
    "##### Criando um Dataframe"
   ]
  },
  {
   "cell_type": "code",
   "execution_count": 9,
   "metadata": {
    "scrolled": true
   },
   "outputs": [
    {
     "name": "stdout",
     "output_type": "stream",
     "text": [
      "busca_exaustiva_smith_waterman\n",
      "dna0.seq\n",
      "dna1.seq\n",
      "dna2.seq\n",
      "dna3.seq\n",
      "dna4.seq\n",
      "exaustiva-paralela\n",
      "dna0.seq\n",
      "dna1.seq\n",
      "dna2.seq\n",
      "dna3.seq\n",
      "dna4.seq\n"
     ]
    }
   ],
   "source": [
    "dic = gera_resultados(\"in_exaustiva\", arquivos, executaveis)"
   ]
  },
  {
   "cell_type": "code",
   "execution_count": 10,
   "metadata": {},
   "outputs": [
    {
     "data": {
      "text/html": [
       "<div>\n",
       "<style scoped>\n",
       "    .dataframe tbody tr th:only-of-type {\n",
       "        vertical-align: middle;\n",
       "    }\n",
       "\n",
       "    .dataframe tbody tr th {\n",
       "        vertical-align: top;\n",
       "    }\n",
       "\n",
       "    .dataframe thead th {\n",
       "        text-align: right;\n",
       "    }\n",
       "</style>\n",
       "<table border=\"1\" class=\"dataframe\">\n",
       "  <thead>\n",
       "    <tr style=\"text-align: right;\">\n",
       "      <th></th>\n",
       "      <th>busca_exaustiva_smith_waterman</th>\n",
       "      <th>exaustiva-paralela</th>\n",
       "    </tr>\n",
       "  </thead>\n",
       "  <tbody>\n",
       "    <tr>\n",
       "      <th>results</th>\n",
       "      <td>[0, 6, 13, 18, 28]</td>\n",
       "      <td>[0, 6, 13, 18, 28]</td>\n",
       "    </tr>\n",
       "    <tr>\n",
       "      <th>times</th>\n",
       "      <td>[0.006782581999686954, 0.011759605000406737, 0...</td>\n",
       "      <td>[0.005327550999936648, 0.007441298999765422, 0...</td>\n",
       "    </tr>\n",
       "  </tbody>\n",
       "</table>\n",
       "</div>"
      ],
      "text/plain": [
       "                            busca_exaustiva_smith_waterman  \\\n",
       "results                                 [0, 6, 13, 18, 28]   \n",
       "times    [0.006782581999686954, 0.011759605000406737, 0...   \n",
       "\n",
       "                                        exaustiva-paralela  \n",
       "results                                 [0, 6, 13, 18, 28]  \n",
       "times    [0.005327550999936648, 0.007441298999765422, 0...  "
      ]
     },
     "execution_count": 10,
     "metadata": {},
     "output_type": "execute_result"
    }
   ],
   "source": [
    "df = pd.DataFrame(dic)\n",
    "df"
   ]
  },
  {
   "cell_type": "code",
   "execution_count": 11,
   "metadata": {
    "scrolled": false
   },
   "outputs": [
    {
     "data": {
      "text/html": [
       "<div>\n",
       "<style scoped>\n",
       "    .dataframe tbody tr th:only-of-type {\n",
       "        vertical-align: middle;\n",
       "    }\n",
       "\n",
       "    .dataframe tbody tr th {\n",
       "        vertical-align: top;\n",
       "    }\n",
       "\n",
       "    .dataframe thead tr th {\n",
       "        text-align: left;\n",
       "    }\n",
       "</style>\n",
       "<table border=\"1\" class=\"dataframe\">\n",
       "  <thead>\n",
       "    <tr>\n",
       "      <th></th>\n",
       "      <th colspan=\"2\" halign=\"left\">busca_exaustiva_smith_waterman</th>\n",
       "      <th colspan=\"2\" halign=\"left\">exaustiva-paralela</th>\n",
       "    </tr>\n",
       "    <tr>\n",
       "      <th></th>\n",
       "      <th>results</th>\n",
       "      <th>times</th>\n",
       "      <th>results</th>\n",
       "      <th>times</th>\n",
       "    </tr>\n",
       "  </thead>\n",
       "  <tbody>\n",
       "    <tr>\n",
       "      <th>0</th>\n",
       "      <td>0</td>\n",
       "      <td>0.006783</td>\n",
       "      <td>0</td>\n",
       "      <td>0.005328</td>\n",
       "    </tr>\n",
       "    <tr>\n",
       "      <th>1</th>\n",
       "      <td>6</td>\n",
       "      <td>0.011760</td>\n",
       "      <td>6</td>\n",
       "      <td>0.007441</td>\n",
       "    </tr>\n",
       "    <tr>\n",
       "      <th>2</th>\n",
       "      <td>13</td>\n",
       "      <td>0.072665</td>\n",
       "      <td>13</td>\n",
       "      <td>0.048729</td>\n",
       "    </tr>\n",
       "    <tr>\n",
       "      <th>3</th>\n",
       "      <td>18</td>\n",
       "      <td>0.505267</td>\n",
       "      <td>18</td>\n",
       "      <td>0.271681</td>\n",
       "    </tr>\n",
       "    <tr>\n",
       "      <th>4</th>\n",
       "      <td>28</td>\n",
       "      <td>2.451480</td>\n",
       "      <td>28</td>\n",
       "      <td>1.179737</td>\n",
       "    </tr>\n",
       "  </tbody>\n",
       "</table>\n",
       "</div>"
      ],
      "text/plain": [
       "  busca_exaustiva_smith_waterman           exaustiva-paralela          \n",
       "                         results     times            results     times\n",
       "0                              0  0.006783                  0  0.005328\n",
       "1                              6  0.011760                  6  0.007441\n",
       "2                             13  0.072665                 13  0.048729\n",
       "3                             18  0.505267                 18  0.271681\n",
       "4                             28  2.451480                 28  1.179737"
      ]
     },
     "execution_count": 11,
     "metadata": {},
     "output_type": "execute_result"
    }
   ],
   "source": [
    "multiIndex_df = pd.DataFrame(multi_df(dic))\n",
    "multiIndex_df"
   ]
  },
  {
   "cell_type": "markdown",
   "metadata": {},
   "source": [
    "--------"
   ]
  },
  {
   "cell_type": "code",
   "execution_count": 12,
   "metadata": {},
   "outputs": [
    {
     "name": "stdout",
     "output_type": "stream",
     "text": [
      "busca_exaustiva_smith_waterman\n",
      "dna0.seq\n",
      "dna1.seq\n",
      "dna2.seq\n",
      "dna3.seq\n",
      "dna4.seq\n",
      "dna5.seq\n",
      "dna6.seq\n",
      "dna7.seq\n",
      "dna8.seq\n",
      "dna9.seq\n",
      "exaustiva-paralela\n",
      "dna0.seq\n",
      "dna1.seq\n",
      "dna2.seq\n",
      "dna3.seq\n",
      "dna4.seq\n",
      "dna5.seq\n",
      "dna6.seq\n",
      "dna7.seq\n",
      "dna8.seq\n",
      "dna9.seq\n"
     ]
    }
   ],
   "source": [
    "executaveis = [\"busca_exaustiva_smith_waterman\", \"exaustiva-paralela\"]\n",
    "arquivos=[]\n",
    "for i in range(10):\n",
    "    arquivos.append(f\"dna{i}.seq\")\n",
    "    \n",
    "dic = gera_resultados(\"in_exaustiva\", arquivos, executaveis)"
   ]
  },
  {
   "cell_type": "code",
   "execution_count": 13,
   "metadata": {},
   "outputs": [
    {
     "data": {
      "text/html": [
       "<div>\n",
       "<style scoped>\n",
       "    .dataframe tbody tr th:only-of-type {\n",
       "        vertical-align: middle;\n",
       "    }\n",
       "\n",
       "    .dataframe tbody tr th {\n",
       "        vertical-align: top;\n",
       "    }\n",
       "\n",
       "    .dataframe thead th {\n",
       "        text-align: right;\n",
       "    }\n",
       "</style>\n",
       "<table border=\"1\" class=\"dataframe\">\n",
       "  <thead>\n",
       "    <tr style=\"text-align: right;\">\n",
       "      <th></th>\n",
       "      <th>busca_exaustiva_smith_waterman</th>\n",
       "      <th>exaustiva-paralela</th>\n",
       "    </tr>\n",
       "  </thead>\n",
       "  <tbody>\n",
       "    <tr>\n",
       "      <th>results</th>\n",
       "      <td>[0, 6, 13, 18, 28, 27, 35, 43, 42, 56]</td>\n",
       "      <td>[0, 6, 13, 18, 28, 27, 35, , , ]</td>\n",
       "    </tr>\n",
       "    <tr>\n",
       "      <th>times</th>\n",
       "      <td>[0.006344452000121237, 0.008693020999999135, 0...</td>\n",
       "      <td>[0.006979954000598809, 0.006168786000671389, 0...</td>\n",
       "    </tr>\n",
       "  </tbody>\n",
       "</table>\n",
       "</div>"
      ],
      "text/plain": [
       "                            busca_exaustiva_smith_waterman  \\\n",
       "results             [0, 6, 13, 18, 28, 27, 35, 43, 42, 56]   \n",
       "times    [0.006344452000121237, 0.008693020999999135, 0...   \n",
       "\n",
       "                                        exaustiva-paralela  \n",
       "results                   [0, 6, 13, 18, 28, 27, 35, , , ]  \n",
       "times    [0.006979954000598809, 0.006168786000671389, 0...  "
      ]
     },
     "execution_count": 13,
     "metadata": {},
     "output_type": "execute_result"
    }
   ],
   "source": [
    "df = pd.DataFrame(dic)\n",
    "df"
   ]
  },
  {
   "cell_type": "code",
   "execution_count": 14,
   "metadata": {},
   "outputs": [
    {
     "data": {
      "text/html": [
       "<div>\n",
       "<style scoped>\n",
       "    .dataframe tbody tr th:only-of-type {\n",
       "        vertical-align: middle;\n",
       "    }\n",
       "\n",
       "    .dataframe tbody tr th {\n",
       "        vertical-align: top;\n",
       "    }\n",
       "\n",
       "    .dataframe thead tr th {\n",
       "        text-align: left;\n",
       "    }\n",
       "</style>\n",
       "<table border=\"1\" class=\"dataframe\">\n",
       "  <thead>\n",
       "    <tr>\n",
       "      <th></th>\n",
       "      <th colspan=\"2\" halign=\"left\">busca_exaustiva_smith_waterman</th>\n",
       "      <th colspan=\"2\" halign=\"left\">exaustiva-paralela</th>\n",
       "    </tr>\n",
       "    <tr>\n",
       "      <th></th>\n",
       "      <th>results</th>\n",
       "      <th>times</th>\n",
       "      <th>results</th>\n",
       "      <th>times</th>\n",
       "    </tr>\n",
       "  </thead>\n",
       "  <tbody>\n",
       "    <tr>\n",
       "      <th>0</th>\n",
       "      <td>0</td>\n",
       "      <td>0.006344</td>\n",
       "      <td>0</td>\n",
       "      <td>0.006980</td>\n",
       "    </tr>\n",
       "    <tr>\n",
       "      <th>1</th>\n",
       "      <td>6</td>\n",
       "      <td>0.008693</td>\n",
       "      <td>6</td>\n",
       "      <td>0.006169</td>\n",
       "    </tr>\n",
       "    <tr>\n",
       "      <th>2</th>\n",
       "      <td>13</td>\n",
       "      <td>0.069928</td>\n",
       "      <td>13</td>\n",
       "      <td>0.047456</td>\n",
       "    </tr>\n",
       "    <tr>\n",
       "      <th>3</th>\n",
       "      <td>18</td>\n",
       "      <td>0.507133</td>\n",
       "      <td>18</td>\n",
       "      <td>0.287081</td>\n",
       "    </tr>\n",
       "    <tr>\n",
       "      <th>4</th>\n",
       "      <td>28</td>\n",
       "      <td>2.415662</td>\n",
       "      <td>28</td>\n",
       "      <td>1.154185</td>\n",
       "    </tr>\n",
       "    <tr>\n",
       "      <th>5</th>\n",
       "      <td>27</td>\n",
       "      <td>8.369848</td>\n",
       "      <td>27</td>\n",
       "      <td>3.669687</td>\n",
       "    </tr>\n",
       "    <tr>\n",
       "      <th>6</th>\n",
       "      <td>35</td>\n",
       "      <td>23.209726</td>\n",
       "      <td>35</td>\n",
       "      <td>11.584866</td>\n",
       "    </tr>\n",
       "    <tr>\n",
       "      <th>7</th>\n",
       "      <td>43</td>\n",
       "      <td>59.443239</td>\n",
       "      <td></td>\n",
       "      <td>9.908092</td>\n",
       "    </tr>\n",
       "    <tr>\n",
       "      <th>8</th>\n",
       "      <td>42</td>\n",
       "      <td>124.461274</td>\n",
       "      <td></td>\n",
       "      <td>5.557961</td>\n",
       "    </tr>\n",
       "    <tr>\n",
       "      <th>9</th>\n",
       "      <td>56</td>\n",
       "      <td>255.860515</td>\n",
       "      <td></td>\n",
       "      <td>4.831604</td>\n",
       "    </tr>\n",
       "  </tbody>\n",
       "</table>\n",
       "</div>"
      ],
      "text/plain": [
       "  busca_exaustiva_smith_waterman             exaustiva-paralela           \n",
       "                         results       times            results      times\n",
       "0                              0    0.006344                  0   0.006980\n",
       "1                              6    0.008693                  6   0.006169\n",
       "2                             13    0.069928                 13   0.047456\n",
       "3                             18    0.507133                 18   0.287081\n",
       "4                             28    2.415662                 28   1.154185\n",
       "5                             27    8.369848                 27   3.669687\n",
       "6                             35   23.209726                 35  11.584866\n",
       "7                             43   59.443239                      9.908092\n",
       "8                             42  124.461274                      5.557961\n",
       "9                             56  255.860515                      4.831604"
      ]
     },
     "execution_count": 14,
     "metadata": {},
     "output_type": "execute_result"
    }
   ],
   "source": [
    "multiIndex_df = pd.DataFrame(multi_df(dic))\n",
    "multiIndex_df"
   ]
  },
  {
   "cell_type": "markdown",
   "metadata": {},
   "source": [
    "--------"
   ]
  },
  {
   "cell_type": "code",
   "execution_count": 16,
   "metadata": {},
   "outputs": [
    {
     "name": "stdout",
     "output_type": "stream",
     "text": [
      "exaustiva-paralela\n",
      "dna0.seq\n",
      "dna1.seq\n",
      "dna2.seq\n",
      "dna3.seq\n",
      "dna4.seq\n",
      "dna5.seq\n",
      "dna6.seq\n",
      "dna7.seq\n",
      "dna8.seq\n",
      "dna9.seq\n",
      "dna10.seq\n",
      "dna11.seq\n",
      "dna12.seq\n",
      "dna13.seq\n",
      "dna14.seq\n",
      "dna15.seq\n",
      "dna16.seq\n",
      "dna17.seq\n",
      "dna18.seq\n",
      "dna19.seq\n"
     ]
    }
   ],
   "source": [
    "executaveis = [\"exaustiva-paralela\"]\n",
    "arquivos=[]\n",
    "for i in range(20):\n",
    "    arquivos.append(f\"dna{i}.seq\")\n",
    "    \n",
    "dic = gera_resultados(\"in_exaustiva_maior\", arquivos, executaveis)"
   ]
  },
  {
   "cell_type": "code",
   "execution_count": 17,
   "metadata": {},
   "outputs": [
    {
     "name": "stdout",
     "output_type": "stream",
     "text": [
      "exaustiva-paralela\n",
      "dna0.seq\n",
      "dna1.seq\n",
      "dna2.seq\n",
      "dna3.seq\n",
      "dna4.seq\n",
      "dna5.seq\n",
      "dna6.seq\n",
      "dna7.seq\n",
      "dna8.seq\n",
      "dna9.seq\n",
      "dna10.seq\n",
      "dna11.seq\n",
      "dna12.seq\n",
      "dna13.seq\n",
      "dna14.seq\n",
      "dna15.seq\n",
      "dna16.seq\n",
      "dna17.seq\n",
      "dna18.seq\n",
      "dna19.seq\n"
     ]
    }
   ],
   "source": [
    "dic = gera_resultados(\"in_exaustiva_maior\", arquivos, executaveis)"
   ]
  },
  {
   "cell_type": "code",
   "execution_count": 18,
   "metadata": {},
   "outputs": [
    {
     "data": {
      "text/html": [
       "<div>\n",
       "<style scoped>\n",
       "    .dataframe tbody tr th:only-of-type {\n",
       "        vertical-align: middle;\n",
       "    }\n",
       "\n",
       "    .dataframe tbody tr th {\n",
       "        vertical-align: top;\n",
       "    }\n",
       "\n",
       "    .dataframe thead th {\n",
       "        text-align: right;\n",
       "    }\n",
       "</style>\n",
       "<table border=\"1\" class=\"dataframe\">\n",
       "  <thead>\n",
       "    <tr style=\"text-align: right;\">\n",
       "      <th></th>\n",
       "      <th>exaustiva-paralela</th>\n",
       "    </tr>\n",
       "  </thead>\n",
       "  <tbody>\n",
       "    <tr>\n",
       "      <th>results</th>\n",
       "      <td>[3, 9, 11, 15, 20, 20, 20, 28, 26, 26, 28, , 3...</td>\n",
       "    </tr>\n",
       "    <tr>\n",
       "      <th>times</th>\n",
       "      <td>[0.015890626999862434, 0.006829208000453946, 0...</td>\n",
       "    </tr>\n",
       "  </tbody>\n",
       "</table>\n",
       "</div>"
      ],
      "text/plain": [
       "                                        exaustiva-paralela\n",
       "results  [3, 9, 11, 15, 20, 20, 20, 28, 26, 26, 28, , 3...\n",
       "times    [0.015890626999862434, 0.006829208000453946, 0..."
      ]
     },
     "execution_count": 18,
     "metadata": {},
     "output_type": "execute_result"
    }
   ],
   "source": [
    "df = pd.DataFrame(dic)\n",
    "df"
   ]
  },
  {
   "cell_type": "code",
   "execution_count": 19,
   "metadata": {},
   "outputs": [
    {
     "data": {
      "text/html": [
       "<div>\n",
       "<style scoped>\n",
       "    .dataframe tbody tr th:only-of-type {\n",
       "        vertical-align: middle;\n",
       "    }\n",
       "\n",
       "    .dataframe tbody tr th {\n",
       "        vertical-align: top;\n",
       "    }\n",
       "\n",
       "    .dataframe thead tr th {\n",
       "        text-align: left;\n",
       "    }\n",
       "</style>\n",
       "<table border=\"1\" class=\"dataframe\">\n",
       "  <thead>\n",
       "    <tr>\n",
       "      <th></th>\n",
       "      <th colspan=\"2\" halign=\"left\">exaustiva-paralela</th>\n",
       "    </tr>\n",
       "    <tr>\n",
       "      <th></th>\n",
       "      <th>results</th>\n",
       "      <th>times</th>\n",
       "    </tr>\n",
       "  </thead>\n",
       "  <tbody>\n",
       "    <tr>\n",
       "      <th>0</th>\n",
       "      <td>3</td>\n",
       "      <td>0.015891</td>\n",
       "    </tr>\n",
       "    <tr>\n",
       "      <th>1</th>\n",
       "      <td>9</td>\n",
       "      <td>0.006829</td>\n",
       "    </tr>\n",
       "    <tr>\n",
       "      <th>2</th>\n",
       "      <td>11</td>\n",
       "      <td>0.015941</td>\n",
       "    </tr>\n",
       "    <tr>\n",
       "      <th>3</th>\n",
       "      <td>15</td>\n",
       "      <td>0.045933</td>\n",
       "    </tr>\n",
       "    <tr>\n",
       "      <th>4</th>\n",
       "      <td>20</td>\n",
       "      <td>0.118322</td>\n",
       "    </tr>\n",
       "    <tr>\n",
       "      <th>5</th>\n",
       "      <td>20</td>\n",
       "      <td>0.372656</td>\n",
       "    </tr>\n",
       "    <tr>\n",
       "      <th>6</th>\n",
       "      <td>20</td>\n",
       "      <td>0.783910</td>\n",
       "    </tr>\n",
       "    <tr>\n",
       "      <th>7</th>\n",
       "      <td>28</td>\n",
       "      <td>1.450659</td>\n",
       "    </tr>\n",
       "    <tr>\n",
       "      <th>8</th>\n",
       "      <td>26</td>\n",
       "      <td>2.689313</td>\n",
       "    </tr>\n",
       "    <tr>\n",
       "      <th>9</th>\n",
       "      <td>26</td>\n",
       "      <td>4.312281</td>\n",
       "    </tr>\n",
       "    <tr>\n",
       "      <th>10</th>\n",
       "      <td>28</td>\n",
       "      <td>7.090656</td>\n",
       "    </tr>\n",
       "    <tr>\n",
       "      <th>11</th>\n",
       "      <td></td>\n",
       "      <td>13.209173</td>\n",
       "    </tr>\n",
       "    <tr>\n",
       "      <th>12</th>\n",
       "      <td>36</td>\n",
       "      <td>19.755437</td>\n",
       "    </tr>\n",
       "    <tr>\n",
       "      <th>13</th>\n",
       "      <td></td>\n",
       "      <td>12.685971</td>\n",
       "    </tr>\n",
       "    <tr>\n",
       "      <th>14</th>\n",
       "      <td></td>\n",
       "      <td>4.229911</td>\n",
       "    </tr>\n",
       "    <tr>\n",
       "      <th>15</th>\n",
       "      <td></td>\n",
       "      <td>7.411507</td>\n",
       "    </tr>\n",
       "    <tr>\n",
       "      <th>16</th>\n",
       "      <td></td>\n",
       "      <td>5.458702</td>\n",
       "    </tr>\n",
       "    <tr>\n",
       "      <th>17</th>\n",
       "      <td></td>\n",
       "      <td>5.877116</td>\n",
       "    </tr>\n",
       "    <tr>\n",
       "      <th>18</th>\n",
       "      <td></td>\n",
       "      <td>4.788993</td>\n",
       "    </tr>\n",
       "    <tr>\n",
       "      <th>19</th>\n",
       "      <td></td>\n",
       "      <td>7.543889</td>\n",
       "    </tr>\n",
       "  </tbody>\n",
       "</table>\n",
       "</div>"
      ],
      "text/plain": [
       "   exaustiva-paralela           \n",
       "              results      times\n",
       "0                   3   0.015891\n",
       "1                   9   0.006829\n",
       "2                  11   0.015941\n",
       "3                  15   0.045933\n",
       "4                  20   0.118322\n",
       "5                  20   0.372656\n",
       "6                  20   0.783910\n",
       "7                  28   1.450659\n",
       "8                  26   2.689313\n",
       "9                  26   4.312281\n",
       "10                 28   7.090656\n",
       "11                     13.209173\n",
       "12                 36  19.755437\n",
       "13                     12.685971\n",
       "14                      4.229911\n",
       "15                      7.411507\n",
       "16                      5.458702\n",
       "17                      5.877116\n",
       "18                      4.788993\n",
       "19                      7.543889"
      ]
     },
     "execution_count": 19,
     "metadata": {},
     "output_type": "execute_result"
    }
   ],
   "source": [
    "multiIndex_df = pd.DataFrame(multi_df(dic))\n",
    "multiIndex_df"
   ]
  },
  {
   "cell_type": "markdown",
   "metadata": {},
   "source": [
    "##### Gráfico da comparação de tempo"
   ]
  },
  {
   "cell_type": "code",
   "execution_count": 32,
   "metadata": {},
   "outputs": [
    {
     "ename": "ValueError",
     "evalue": "x and y must have same first dimension, but have shapes (10,) and (5,)",
     "output_type": "error",
     "traceback": [
      "\u001b[0;31m---------------------------------------------------------------------------\u001b[0m",
      "\u001b[0;31mValueError\u001b[0m                                Traceback (most recent call last)",
      "\u001b[0;32m<ipython-input-32-5e4295d5d979>\u001b[0m in \u001b[0;36m<module>\u001b[0;34m\u001b[0m\n\u001b[1;32m      4\u001b[0m \u001b[0;34m\u001b[0m\u001b[0m\n\u001b[1;32m      5\u001b[0m \u001b[0;32mfor\u001b[0m \u001b[0mexe\u001b[0m \u001b[0;32min\u001b[0m \u001b[0mdf\u001b[0m\u001b[0;34m.\u001b[0m\u001b[0mcolumns\u001b[0m\u001b[0;34m.\u001b[0m\u001b[0mvalues\u001b[0m\u001b[0;34m.\u001b[0m\u001b[0mtolist\u001b[0m\u001b[0;34m(\u001b[0m\u001b[0;34m)\u001b[0m\u001b[0;34m:\u001b[0m\u001b[0;34m\u001b[0m\u001b[0;34m\u001b[0m\u001b[0m\n\u001b[0;32m----> 6\u001b[0;31m     \u001b[0mplt\u001b[0m\u001b[0;34m.\u001b[0m\u001b[0mplot\u001b[0m\u001b[0;34m(\u001b[0m\u001b[0mvalores\u001b[0m\u001b[0;34m,\u001b[0m\u001b[0mmultiIndex_df\u001b[0m\u001b[0;34m[\u001b[0m\u001b[0mexe\u001b[0m\u001b[0;34m]\u001b[0m\u001b[0;34m[\u001b[0m\u001b[0;34m\"times\"\u001b[0m\u001b[0;34m]\u001b[0m\u001b[0;34m.\u001b[0m\u001b[0mvalues\u001b[0m\u001b[0;34m,\u001b[0m \u001b[0mlabel\u001b[0m\u001b[0;34m=\u001b[0m\u001b[0mexe\u001b[0m\u001b[0;34m)\u001b[0m\u001b[0;34m\u001b[0m\u001b[0;34m\u001b[0m\u001b[0m\n\u001b[0m\u001b[1;32m      7\u001b[0m \u001b[0mplt\u001b[0m\u001b[0;34m.\u001b[0m\u001b[0mlegend\u001b[0m\u001b[0;34m(\u001b[0m\u001b[0;34m)\u001b[0m\u001b[0;34m\u001b[0m\u001b[0;34m\u001b[0m\u001b[0m\n\u001b[1;32m      8\u001b[0m plt.xlabel(\"tamanho da sequência\", \n",
      "\u001b[0;32m~/.local/lib/python3.8/site-packages/matplotlib/pyplot.py\u001b[0m in \u001b[0;36mplot\u001b[0;34m(scalex, scaley, data, *args, **kwargs)\u001b[0m\n\u001b[1;32m   2986\u001b[0m \u001b[0;34m@\u001b[0m\u001b[0m_copy_docstring_and_deprecators\u001b[0m\u001b[0;34m(\u001b[0m\u001b[0mAxes\u001b[0m\u001b[0;34m.\u001b[0m\u001b[0mplot\u001b[0m\u001b[0;34m)\u001b[0m\u001b[0;34m\u001b[0m\u001b[0;34m\u001b[0m\u001b[0m\n\u001b[1;32m   2987\u001b[0m \u001b[0;32mdef\u001b[0m \u001b[0mplot\u001b[0m\u001b[0;34m(\u001b[0m\u001b[0;34m*\u001b[0m\u001b[0margs\u001b[0m\u001b[0;34m,\u001b[0m \u001b[0mscalex\u001b[0m\u001b[0;34m=\u001b[0m\u001b[0;32mTrue\u001b[0m\u001b[0;34m,\u001b[0m \u001b[0mscaley\u001b[0m\u001b[0;34m=\u001b[0m\u001b[0;32mTrue\u001b[0m\u001b[0;34m,\u001b[0m \u001b[0mdata\u001b[0m\u001b[0;34m=\u001b[0m\u001b[0;32mNone\u001b[0m\u001b[0;34m,\u001b[0m \u001b[0;34m**\u001b[0m\u001b[0mkwargs\u001b[0m\u001b[0;34m)\u001b[0m\u001b[0;34m:\u001b[0m\u001b[0;34m\u001b[0m\u001b[0;34m\u001b[0m\u001b[0m\n\u001b[0;32m-> 2988\u001b[0;31m     return gca().plot(\n\u001b[0m\u001b[1;32m   2989\u001b[0m         \u001b[0;34m*\u001b[0m\u001b[0margs\u001b[0m\u001b[0;34m,\u001b[0m \u001b[0mscalex\u001b[0m\u001b[0;34m=\u001b[0m\u001b[0mscalex\u001b[0m\u001b[0;34m,\u001b[0m \u001b[0mscaley\u001b[0m\u001b[0;34m=\u001b[0m\u001b[0mscaley\u001b[0m\u001b[0;34m,\u001b[0m\u001b[0;34m\u001b[0m\u001b[0;34m\u001b[0m\u001b[0m\n\u001b[1;32m   2990\u001b[0m         **({\"data\": data} if data is not None else {}), **kwargs)\n",
      "\u001b[0;32m~/.local/lib/python3.8/site-packages/matplotlib/axes/_axes.py\u001b[0m in \u001b[0;36mplot\u001b[0;34m(self, scalex, scaley, data, *args, **kwargs)\u001b[0m\n\u001b[1;32m   1603\u001b[0m         \"\"\"\n\u001b[1;32m   1604\u001b[0m         \u001b[0mkwargs\u001b[0m \u001b[0;34m=\u001b[0m \u001b[0mcbook\u001b[0m\u001b[0;34m.\u001b[0m\u001b[0mnormalize_kwargs\u001b[0m\u001b[0;34m(\u001b[0m\u001b[0mkwargs\u001b[0m\u001b[0;34m,\u001b[0m \u001b[0mmlines\u001b[0m\u001b[0;34m.\u001b[0m\u001b[0mLine2D\u001b[0m\u001b[0;34m)\u001b[0m\u001b[0;34m\u001b[0m\u001b[0;34m\u001b[0m\u001b[0m\n\u001b[0;32m-> 1605\u001b[0;31m         \u001b[0mlines\u001b[0m \u001b[0;34m=\u001b[0m \u001b[0;34m[\u001b[0m\u001b[0;34m*\u001b[0m\u001b[0mself\u001b[0m\u001b[0;34m.\u001b[0m\u001b[0m_get_lines\u001b[0m\u001b[0;34m(\u001b[0m\u001b[0;34m*\u001b[0m\u001b[0margs\u001b[0m\u001b[0;34m,\u001b[0m \u001b[0mdata\u001b[0m\u001b[0;34m=\u001b[0m\u001b[0mdata\u001b[0m\u001b[0;34m,\u001b[0m \u001b[0;34m**\u001b[0m\u001b[0mkwargs\u001b[0m\u001b[0;34m)\u001b[0m\u001b[0;34m]\u001b[0m\u001b[0;34m\u001b[0m\u001b[0;34m\u001b[0m\u001b[0m\n\u001b[0m\u001b[1;32m   1606\u001b[0m         \u001b[0;32mfor\u001b[0m \u001b[0mline\u001b[0m \u001b[0;32min\u001b[0m \u001b[0mlines\u001b[0m\u001b[0;34m:\u001b[0m\u001b[0;34m\u001b[0m\u001b[0;34m\u001b[0m\u001b[0m\n\u001b[1;32m   1607\u001b[0m             \u001b[0mself\u001b[0m\u001b[0;34m.\u001b[0m\u001b[0madd_line\u001b[0m\u001b[0;34m(\u001b[0m\u001b[0mline\u001b[0m\u001b[0;34m)\u001b[0m\u001b[0;34m\u001b[0m\u001b[0;34m\u001b[0m\u001b[0m\n",
      "\u001b[0;32m~/.local/lib/python3.8/site-packages/matplotlib/axes/_base.py\u001b[0m in \u001b[0;36m__call__\u001b[0;34m(self, data, *args, **kwargs)\u001b[0m\n\u001b[1;32m    313\u001b[0m                 \u001b[0mthis\u001b[0m \u001b[0;34m+=\u001b[0m \u001b[0margs\u001b[0m\u001b[0;34m[\u001b[0m\u001b[0;36m0\u001b[0m\u001b[0;34m]\u001b[0m\u001b[0;34m,\u001b[0m\u001b[0;34m\u001b[0m\u001b[0;34m\u001b[0m\u001b[0m\n\u001b[1;32m    314\u001b[0m                 \u001b[0margs\u001b[0m \u001b[0;34m=\u001b[0m \u001b[0margs\u001b[0m\u001b[0;34m[\u001b[0m\u001b[0;36m1\u001b[0m\u001b[0;34m:\u001b[0m\u001b[0;34m]\u001b[0m\u001b[0;34m\u001b[0m\u001b[0;34m\u001b[0m\u001b[0m\n\u001b[0;32m--> 315\u001b[0;31m             \u001b[0;32myield\u001b[0m \u001b[0;32mfrom\u001b[0m \u001b[0mself\u001b[0m\u001b[0;34m.\u001b[0m\u001b[0m_plot_args\u001b[0m\u001b[0;34m(\u001b[0m\u001b[0mthis\u001b[0m\u001b[0;34m,\u001b[0m \u001b[0mkwargs\u001b[0m\u001b[0;34m)\u001b[0m\u001b[0;34m\u001b[0m\u001b[0;34m\u001b[0m\u001b[0m\n\u001b[0m\u001b[1;32m    316\u001b[0m \u001b[0;34m\u001b[0m\u001b[0m\n\u001b[1;32m    317\u001b[0m     \u001b[0;32mdef\u001b[0m \u001b[0mget_next_color\u001b[0m\u001b[0;34m(\u001b[0m\u001b[0mself\u001b[0m\u001b[0;34m)\u001b[0m\u001b[0;34m:\u001b[0m\u001b[0;34m\u001b[0m\u001b[0;34m\u001b[0m\u001b[0m\n",
      "\u001b[0;32m~/.local/lib/python3.8/site-packages/matplotlib/axes/_base.py\u001b[0m in \u001b[0;36m_plot_args\u001b[0;34m(self, tup, kwargs, return_kwargs)\u001b[0m\n\u001b[1;32m    499\u001b[0m \u001b[0;34m\u001b[0m\u001b[0m\n\u001b[1;32m    500\u001b[0m         \u001b[0;32mif\u001b[0m \u001b[0mx\u001b[0m\u001b[0;34m.\u001b[0m\u001b[0mshape\u001b[0m\u001b[0;34m[\u001b[0m\u001b[0;36m0\u001b[0m\u001b[0;34m]\u001b[0m \u001b[0;34m!=\u001b[0m \u001b[0my\u001b[0m\u001b[0;34m.\u001b[0m\u001b[0mshape\u001b[0m\u001b[0;34m[\u001b[0m\u001b[0;36m0\u001b[0m\u001b[0;34m]\u001b[0m\u001b[0;34m:\u001b[0m\u001b[0;34m\u001b[0m\u001b[0;34m\u001b[0m\u001b[0m\n\u001b[0;32m--> 501\u001b[0;31m             raise ValueError(f\"x and y must have same first dimension, but \"\n\u001b[0m\u001b[1;32m    502\u001b[0m                              f\"have shapes {x.shape} and {y.shape}\")\n\u001b[1;32m    503\u001b[0m         \u001b[0;32mif\u001b[0m \u001b[0mx\u001b[0m\u001b[0;34m.\u001b[0m\u001b[0mndim\u001b[0m \u001b[0;34m>\u001b[0m \u001b[0;36m2\u001b[0m \u001b[0;32mor\u001b[0m \u001b[0my\u001b[0m\u001b[0;34m.\u001b[0m\u001b[0mndim\u001b[0m \u001b[0;34m>\u001b[0m \u001b[0;36m2\u001b[0m\u001b[0;34m:\u001b[0m\u001b[0;34m\u001b[0m\u001b[0;34m\u001b[0m\u001b[0m\n",
      "\u001b[0;31mValueError\u001b[0m: x and y must have same first dimension, but have shapes (10,) and (5,)"
     ]
    },
    {
     "data": {
      "image/png": "[encoded data removed]",
      "text/plain": [
       "<Figure size 432x288 with 1 Axes>"
      ]
     },
     "metadata": {
      "needs_background": "light"
     },
     "output_type": "display_data"
    }
   ],
   "source": [
    "valores=[1]\n",
    "for i in range (1,10):\n",
    "    valores.append(valores[i-1]+10)\n",
    "\n",
    "for exe in df.columns.values.tolist():\n",
    "    plt.plot(valores,multiIndex_df[exe][\"times\"].values, label=exe)\n",
    "plt.legend()\n",
    "plt.xlabel(\"tamanho da sequência\", \n",
    "           fontsize=15,\n",
    "          color=\"steelblue\")\n",
    "plt.ylabel(\"tempo\", \n",
    "           fontsize=15,\n",
    "          color=\"steelblue\")\n",
    "plt.title(label=\"Gráfico do tempo em função do tamanho da sequência\\n\",\n",
    "          fontsize=20,\n",
    "          color=\"teal\")"
   ]
  },
  {
   "cell_type": "markdown",
   "metadata": {},
   "source": [
    "##### Gráfico da comparação de valores"
   ]
  },
  {
   "cell_type": "code",
   "execution_count": null,
   "metadata": {},
   "outputs": [],
   "source": [
    "for exe in df.columns.values.tolist():\n",
    "    plt.plot(valores,multiIndex_df[exe][\"results\"].values.astype(float), label=exe)\n",
    "plt.legend()\n",
    "plt.xlabel(\"tamanho da sequência\", \n",
    "           fontsize=15,\n",
    "          color=\"steelblue\")\n",
    "plt.ylabel(\"valor máximo\", \n",
    "           fontsize=15,\n",
    "          color=\"steelblue\")\n",
    "plt.title(label=\"Gráfico do valor máximo encontrado em função do tamanho da sequência\\n\",\n",
    "          fontsize=20,\n",
    "          color=\"teal\")"
   ]
  },
  {
   "cell_type": "markdown",
   "metadata": {},
   "source": [
    "### Análise e conclusões"
   ]
  },
  {
   "cell_type": "code",
   "execution_count": null,
   "metadata": {},
   "outputs": [],
   "source": []
  }
 ],
 "metadata": {
  "kernelspec": {
   "display_name": "Python 3",
   "language": "python",
   "name": "python3"
  },
  "language_info": {
   "codemirror_mode": {
    "name": "ipython",
    "version": 3
   },
   "file_extension": ".py",
   "mimetype": "text/x-python",
   "name": "python",
   "nbconvert_exporter": "python",
   "pygments_lexer": "ipython3",
   "version": "3.8.10"
  }
 },
 "nbformat": 4,
 "nbformat_minor": 2
}
