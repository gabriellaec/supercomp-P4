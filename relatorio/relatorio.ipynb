{
 "cells": [
  {
   "cell_type": "markdown",
   "metadata": {},
   "source": [
    "# Relatório Intermediário"
   ]
  },
  {
   "cell_type": "markdown",
   "metadata": {},
   "source": [
    "Gabriella Cukier"
   ]
  },
  {
   "cell_type": "markdown",
   "metadata": {},
   "source": [
    "### Bibliotecas"
   ]
  },
  {
   "cell_type": "code",
   "execution_count": 1,
   "metadata": {},
   "outputs": [],
   "source": [
    "import subprocess\n",
    "import time\n",
    "import pandas as pd\n",
    "import matplotlib.pyplot as plt"
   ]
  },
  {
   "cell_type": "markdown",
   "metadata": {},
   "source": [
    "### Funções utilizadas"
   ]
  },
  {
   "cell_type": "code",
   "execution_count": 2,
   "metadata": {},
   "outputs": [],
   "source": [
    "def roda_com_entrada(executavel, arquivo_in):\n",
    "    with open(arquivo_in) as f:\n",
    "        start = time.perf_counter()\n",
    "        proc = subprocess.run([f\"./exe/{executavel}\"], input=f.read(), text=True, capture_output=True)\n",
    "        end = time.perf_counter()\n",
    "        \n",
    "        return(proc.stdout, (end - start))"
   ]
  },
  {
   "cell_type": "code",
   "execution_count": 3,
   "metadata": {},
   "outputs": [],
   "source": [
    "def gera_resultados(path, arquivos, executaveis):\n",
    "    dic={}\n",
    "    for executavel in executaveis:\n",
    "        dic[executavel] = {\n",
    "            \"results\": None,\n",
    "            \"times\" : None\n",
    "        }\n",
    "        results=[]\n",
    "        times=[]\n",
    "        \n",
    "        print(executavel)\n",
    "        for arquivo_in in arquivos:\n",
    "\n",
    "            desempenho = roda_com_entrada(executavel, f\"{path}/{arquivo_in}\")\n",
    "            results.append(desempenho[0])\n",
    "            times.append(desempenho[1])\n",
    "            \n",
    "            print(arquivo_in)\n",
    "\n",
    "        dic[executavel][\"results\"] = results\n",
    "        dic[executavel][\"times\"] = times\n",
    "    return dic"
   ]
  },
  {
   "cell_type": "code",
   "execution_count": 4,
   "metadata": {},
   "outputs": [],
   "source": [
    "def multi_df(dic):\n",
    "    # https://www.geeksforgeeks.org/nested-dictionary-to-multiindex-dataframe/\n",
    "    reformed_dict = {}\n",
    "    for outerKey, innerDict in dic.items():\n",
    "        for innerKey, values in innerDict.items():\n",
    "            reformed_dict[(outerKey,\n",
    "                           innerKey)] = values\n",
    "\n",
    "    multiIndex_df = pd.DataFrame(reformed_dict)\n",
    "    return multiIndex_df"
   ]
  },
  {
   "cell_type": "markdown",
   "metadata": {},
   "source": [
    "## Resultados: Busca Exaustiva"
   ]
  },
  {
   "cell_type": "markdown",
   "metadata": {},
   "source": [
    "#### Metodologia da comparação"
   ]
  },
  {
   "cell_type": "markdown",
   "metadata": {},
   "source": [
    "Como a estratégia da busca exaustiva consiste em testar todas as possibilidades possíveis e assim achar uma solução ótima global, ela tende a ser mais compuacionalmente custosa. Desta forma, para fins de teste de desempenho, foi utilizado um intervalo com valores mais baixos referentes ao tamanho da sequência.\n",
    "\n",
    "Para comparar os desempenhos entre as implementações descritas anteriormente, foram criadas 10 entradas diferentes, com o valor inicial do tamanho da sequência começando em 1 e aumentando de 10 em 10.\n",
    "\n",
    "Os respectivos resultados de cada programa foram salvos em um dataframe, assim como os tempos de execução correspondentes. Por fim, foram elaborados gráficos comparativos e seus resultados analisados"
   ]
  },
  {
   "cell_type": "markdown",
   "metadata": {},
   "source": [
    "##### Rodando os executáveis com cada arquivo de entrada"
   ]
  },
  {
   "cell_type": "code",
   "execution_count": 40,
   "metadata": {},
   "outputs": [],
   "source": [
    "executaveis = [\"busca_exaustiva_smith_waterman\", \"exaustiva-paralela\", \"exaustiva-paralela-reduce\"]\n",
    "arquivos=[]\n",
    "for i in range(5):\n",
    "    arquivos.append(f\"dna{i}.seq\")"
   ]
  },
  {
   "cell_type": "markdown",
   "metadata": {},
   "source": [
    "##### Criando um Dataframe"
   ]
  },
  {
   "cell_type": "code",
   "execution_count": 41,
   "metadata": {
    "scrolled": true
   },
   "outputs": [
    {
     "name": "stdout",
     "output_type": "stream",
     "text": [
      "busca_exaustiva_smith_waterman\n",
      "dna0.seq\n",
      "dna1.seq\n",
      "dna2.seq\n",
      "dna3.seq\n",
      "dna4.seq\n",
      "exaustiva-paralela\n",
      "dna0.seq\n",
      "dna1.seq\n",
      "dna2.seq\n",
      "dna3.seq\n",
      "dna4.seq\n",
      "exaustiva-paralela-reduce\n",
      "dna0.seq\n",
      "dna1.seq\n",
      "dna2.seq\n",
      "dna3.seq\n",
      "dna4.seq\n"
     ]
    }
   ],
   "source": [
    "dic_all = gera_resultados(\"in_exaustiva\", arquivos, executaveis)"
   ]
  },
  {
   "cell_type": "code",
   "execution_count": 42,
   "metadata": {},
   "outputs": [
    {
     "data": {
      "text/html": [
       "<div>\n",
       "<style scoped>\n",
       "    .dataframe tbody tr th:only-of-type {\n",
       "        vertical-align: middle;\n",
       "    }\n",
       "\n",
       "    .dataframe tbody tr th {\n",
       "        vertical-align: top;\n",
       "    }\n",
       "\n",
       "    .dataframe thead th {\n",
       "        text-align: right;\n",
       "    }\n",
       "</style>\n",
       "<table border=\"1\" class=\"dataframe\">\n",
       "  <thead>\n",
       "    <tr style=\"text-align: right;\">\n",
       "      <th></th>\n",
       "      <th>busca_exaustiva_smith_waterman</th>\n",
       "      <th>exaustiva-paralela</th>\n",
       "      <th>exaustiva-paralela-reduce</th>\n",
       "    </tr>\n",
       "  </thead>\n",
       "  <tbody>\n",
       "    <tr>\n",
       "      <th>results</th>\n",
       "      <td>[0, 6, 13, 18, 28]</td>\n",
       "      <td>[0, 6, 13, 18, 28]</td>\n",
       "      <td>[0, 6, 13, 18, 28]</td>\n",
       "    </tr>\n",
       "    <tr>\n",
       "      <th>times</th>\n",
       "      <td>[0.015383303999442433, 0.011296929999843996, 0...</td>\n",
       "      <td>[0.009997873999964213, 0.009151273999123077, 0...</td>\n",
       "      <td>[0.02188908399966749, 0.029885601000387396, 0....</td>\n",
       "    </tr>\n",
       "  </tbody>\n",
       "</table>\n",
       "</div>"
      ],
      "text/plain": [
       "                            busca_exaustiva_smith_waterman  \\\n",
       "results                                 [0, 6, 13, 18, 28]   \n",
       "times    [0.015383303999442433, 0.011296929999843996, 0...   \n",
       "\n",
       "                                        exaustiva-paralela  \\\n",
       "results                                 [0, 6, 13, 18, 28]   \n",
       "times    [0.009997873999964213, 0.009151273999123077, 0...   \n",
       "\n",
       "                                 exaustiva-paralela-reduce  \n",
       "results                                 [0, 6, 13, 18, 28]  \n",
       "times    [0.02188908399966749, 0.029885601000387396, 0....  "
      ]
     },
     "execution_count": 42,
     "metadata": {},
     "output_type": "execute_result"
    }
   ],
   "source": [
    "df_all = pd.DataFrame(dic_all)\n",
    "df_all"
   ]
  },
  {
   "cell_type": "code",
   "execution_count": 43,
   "metadata": {
    "scrolled": false
   },
   "outputs": [
    {
     "data": {
      "text/html": [
       "<div>\n",
       "<style scoped>\n",
       "    .dataframe tbody tr th:only-of-type {\n",
       "        vertical-align: middle;\n",
       "    }\n",
       "\n",
       "    .dataframe tbody tr th {\n",
       "        vertical-align: top;\n",
       "    }\n",
       "\n",
       "    .dataframe thead tr th {\n",
       "        text-align: left;\n",
       "    }\n",
       "</style>\n",
       "<table border=\"1\" class=\"dataframe\">\n",
       "  <thead>\n",
       "    <tr>\n",
       "      <th></th>\n",
       "      <th colspan=\"2\" halign=\"left\">busca_exaustiva_smith_waterman</th>\n",
       "      <th colspan=\"2\" halign=\"left\">exaustiva-paralela</th>\n",
       "      <th colspan=\"2\" halign=\"left\">exaustiva-paralela-reduce</th>\n",
       "    </tr>\n",
       "    <tr>\n",
       "      <th></th>\n",
       "      <th>results</th>\n",
       "      <th>times</th>\n",
       "      <th>results</th>\n",
       "      <th>times</th>\n",
       "      <th>results</th>\n",
       "      <th>times</th>\n",
       "    </tr>\n",
       "  </thead>\n",
       "  <tbody>\n",
       "    <tr>\n",
       "      <th>0</th>\n",
       "      <td>0</td>\n",
       "      <td>0.015383</td>\n",
       "      <td>0</td>\n",
       "      <td>0.009998</td>\n",
       "      <td>0</td>\n",
       "      <td>0.021889</td>\n",
       "    </tr>\n",
       "    <tr>\n",
       "      <th>1</th>\n",
       "      <td>6</td>\n",
       "      <td>0.011297</td>\n",
       "      <td>6</td>\n",
       "      <td>0.009151</td>\n",
       "      <td>6</td>\n",
       "      <td>0.029886</td>\n",
       "    </tr>\n",
       "    <tr>\n",
       "      <th>2</th>\n",
       "      <td>13</td>\n",
       "      <td>0.074603</td>\n",
       "      <td>13</td>\n",
       "      <td>0.048508</td>\n",
       "      <td>13</td>\n",
       "      <td>0.063061</td>\n",
       "    </tr>\n",
       "    <tr>\n",
       "      <th>3</th>\n",
       "      <td>18</td>\n",
       "      <td>0.486861</td>\n",
       "      <td>18</td>\n",
       "      <td>0.293612</td>\n",
       "      <td>18</td>\n",
       "      <td>0.338354</td>\n",
       "    </tr>\n",
       "    <tr>\n",
       "      <th>4</th>\n",
       "      <td>28</td>\n",
       "      <td>2.343491</td>\n",
       "      <td>28</td>\n",
       "      <td>1.130543</td>\n",
       "      <td>28</td>\n",
       "      <td>1.270393</td>\n",
       "    </tr>\n",
       "  </tbody>\n",
       "</table>\n",
       "</div>"
      ],
      "text/plain": [
       "  busca_exaustiva_smith_waterman           exaustiva-paralela            \\\n",
       "                         results     times            results     times   \n",
       "0                              0  0.015383                  0  0.009998   \n",
       "1                              6  0.011297                  6  0.009151   \n",
       "2                             13  0.074603                 13  0.048508   \n",
       "3                             18  0.486861                 18  0.293612   \n",
       "4                             28  2.343491                 28  1.130543   \n",
       "\n",
       "  exaustiva-paralela-reduce            \n",
       "                    results     times  \n",
       "0                         0  0.021889  \n",
       "1                         6  0.029886  \n",
       "2                        13  0.063061  \n",
       "3                        18  0.338354  \n",
       "4                        28  1.270393  "
      ]
     },
     "execution_count": 43,
     "metadata": {},
     "output_type": "execute_result"
    }
   ],
   "source": [
    "multiIndex_df_all = pd.DataFrame(multi_df(dic_all))\n",
    "multiIndex_df_all"
   ]
  },
  {
   "cell_type": "markdown",
   "metadata": {},
   "source": [
    "--------"
   ]
  },
  {
   "cell_type": "code",
   "execution_count": 44,
   "metadata": {},
   "outputs": [
    {
     "data": {
      "text/plain": [
       "Text(0.5, 1.0, 'Gráfico do tempo em função do tamanho da sequência\\n')"
      ]
     },
     "execution_count": 44,
     "metadata": {},
     "output_type": "execute_result"
    },
    {
     "data": {
      "image/png": "[encoded data removed]",
      "text/plain": [
       "<Figure size 432x288 with 1 Axes>"
      ]
     },
     "metadata": {
      "needs_background": "light"
     },
     "output_type": "display_data"
    }
   ],
   "source": [
    "valores=[1]\n",
    "for i in range (1,5):\n",
    "    valores.append(valores[i-1]+10)\n",
    "\n",
    "for exe in df_all.columns.values.tolist():\n",
    "    plt.plot(valores,multiIndex_df_all[exe][\"times\"].values, label=exe)\n",
    "plt.legend()\n",
    "plt.xlabel(\"tamanho da sequência\", \n",
    "           fontsize=15,\n",
    "          color=\"steelblue\")\n",
    "plt.ylabel(\"tempo\", \n",
    "           fontsize=15,\n",
    "          color=\"steelblue\")\n",
    "plt.title(label=\"Gráfico do tempo em função do tamanho da sequência\\n\",\n",
    "          fontsize=20,\n",
    "          color=\"teal\")"
   ]
  },
  {
   "cell_type": "code",
   "execution_count": 45,
   "metadata": {},
   "outputs": [
    {
     "data": {
      "text/plain": [
       "Text(0.5, 1.0, 'Gráfico do valor máximo encontrado em função do tamanho da sequência\\n')"
      ]
     },
     "execution_count": 45,
     "metadata": {},
     "output_type": "execute_result"
    },
    {
     "data": {
      "image/png": "[encoded data removed]",
      "text/plain": [
       "<Figure size 432x288 with 1 Axes>"
      ]
     },
     "metadata": {
      "needs_background": "light"
     },
     "output_type": "display_data"
    }
   ],
   "source": [
    "for exe in df_all.columns.values.tolist():\n",
    "    plt.plot(valores,multiIndex_df_all[exe][\"results\"].values.astype(float), label=exe)\n",
    "plt.legend()\n",
    "plt.xlabel(\"tamanho da sequência\", \n",
    "           fontsize=15,\n",
    "          color=\"steelblue\")\n",
    "plt.ylabel(\"valor máximo\", \n",
    "           fontsize=15,\n",
    "          color=\"steelblue\")\n",
    "plt.title(label=\"Gráfico do valor máximo encontrado em função do tamanho da sequência\\n\",\n",
    "          fontsize=20,\n",
    "          color=\"teal\")"
   ]
  },
  {
   "cell_type": "code",
   "execution_count": null,
   "metadata": {},
   "outputs": [
    {
     "name": "stdout",
     "output_type": "stream",
     "text": [
      "busca_exaustiva_smith_waterman\n",
      "dna0.seq\n",
      "dna1.seq\n",
      "dna2.seq\n",
      "dna3.seq\n",
      "dna4.seq\n",
      "dna5.seq\n",
      "dna6.seq\n",
      "dna7.seq\n",
      "dna8.seq\n"
     ]
    }
   ],
   "source": [
    "executaveis = [\"busca_exaustiva_smith_waterman\", \"exaustiva-paralela\", \"exaustiva-paralela-reduce\"]\n",
    "arquivos=[]\n",
    "for i in range(10):\n",
    "    arquivos.append(f\"dna{i}.seq\")\n",
    "    \n",
    "dic_all10 = gera_resultados(\"in_exaustiva\", arquivos, executaveis)"
   ]
  },
  {
   "cell_type": "code",
   "execution_count": 11,
   "metadata": {},
   "outputs": [
    {
     "data": {
      "text/html": [
       "<div>\n",
       "<style scoped>\n",
       "    .dataframe tbody tr th:only-of-type {\n",
       "        vertical-align: middle;\n",
       "    }\n",
       "\n",
       "    .dataframe tbody tr th {\n",
       "        vertical-align: top;\n",
       "    }\n",
       "\n",
       "    .dataframe thead th {\n",
       "        text-align: right;\n",
       "    }\n",
       "</style>\n",
       "<table border=\"1\" class=\"dataframe\">\n",
       "  <thead>\n",
       "    <tr style=\"text-align: right;\">\n",
       "      <th></th>\n",
       "      <th>busca_exaustiva_smith_waterman</th>\n",
       "      <th>exaustiva-paralela</th>\n",
       "      <th>exaustiva-paralela-reduce</th>\n",
       "    </tr>\n",
       "  </thead>\n",
       "  <tbody>\n",
       "    <tr>\n",
       "      <th>results</th>\n",
       "      <td>[0, 6, 13, 18, 28, 27, 35, 43, 42, 56]</td>\n",
       "      <td>[0, 6, 13, 18, 28, 27, 35, , , ]</td>\n",
       "      <td>[0, 4, 7, 2, 17, 20, 28, 34, 34, 49]</td>\n",
       "    </tr>\n",
       "    <tr>\n",
       "      <th>times</th>\n",
       "      <td>[0.006758605999948486, 0.008507329999929425, 0...</td>\n",
       "      <td>[0.006094597000128488, 0.008382733999951597, 0...</td>\n",
       "      <td>[0.018712769999865486, 0.011590485999931843, 0...</td>\n",
       "    </tr>\n",
       "  </tbody>\n",
       "</table>\n",
       "</div>"
      ],
      "text/plain": [
       "                            busca_exaustiva_smith_waterman  \\\n",
       "results             [0, 6, 13, 18, 28, 27, 35, 43, 42, 56]   \n",
       "times    [0.006758605999948486, 0.008507329999929425, 0...   \n",
       "\n",
       "                                        exaustiva-paralela  \\\n",
       "results                   [0, 6, 13, 18, 28, 27, 35, , , ]   \n",
       "times    [0.006094597000128488, 0.008382733999951597, 0...   \n",
       "\n",
       "                                 exaustiva-paralela-reduce  \n",
       "results               [0, 4, 7, 2, 17, 20, 28, 34, 34, 49]  \n",
       "times    [0.018712769999865486, 0.011590485999931843, 0...  "
      ]
     },
     "execution_count": 11,
     "metadata": {},
     "output_type": "execute_result"
    }
   ],
   "source": [
    "df_all10 = pd.DataFrame(dic_all10)\n",
    "df_all10"
   ]
  },
  {
   "cell_type": "code",
   "execution_count": 12,
   "metadata": {},
   "outputs": [
    {
     "data": {
      "text/html": [
       "<div>\n",
       "<style scoped>\n",
       "    .dataframe tbody tr th:only-of-type {\n",
       "        vertical-align: middle;\n",
       "    }\n",
       "\n",
       "    .dataframe tbody tr th {\n",
       "        vertical-align: top;\n",
       "    }\n",
       "\n",
       "    .dataframe thead tr th {\n",
       "        text-align: left;\n",
       "    }\n",
       "</style>\n",
       "<table border=\"1\" class=\"dataframe\">\n",
       "  <thead>\n",
       "    <tr>\n",
       "      <th></th>\n",
       "      <th colspan=\"2\" halign=\"left\">busca_exaustiva_smith_waterman</th>\n",
       "      <th colspan=\"2\" halign=\"left\">exaustiva-paralela</th>\n",
       "      <th colspan=\"2\" halign=\"left\">exaustiva-paralela-reduce</th>\n",
       "    </tr>\n",
       "    <tr>\n",
       "      <th></th>\n",
       "      <th>results</th>\n",
       "      <th>times</th>\n",
       "      <th>results</th>\n",
       "      <th>times</th>\n",
       "      <th>results</th>\n",
       "      <th>times</th>\n",
       "    </tr>\n",
       "  </thead>\n",
       "  <tbody>\n",
       "    <tr>\n",
       "      <th>0</th>\n",
       "      <td>0</td>\n",
       "      <td>0.006759</td>\n",
       "      <td>0</td>\n",
       "      <td>0.006095</td>\n",
       "      <td>0</td>\n",
       "      <td>0.018713</td>\n",
       "    </tr>\n",
       "    <tr>\n",
       "      <th>1</th>\n",
       "      <td>6</td>\n",
       "      <td>0.008507</td>\n",
       "      <td>6</td>\n",
       "      <td>0.008383</td>\n",
       "      <td>4</td>\n",
       "      <td>0.011590</td>\n",
       "    </tr>\n",
       "    <tr>\n",
       "      <th>2</th>\n",
       "      <td>13</td>\n",
       "      <td>0.070113</td>\n",
       "      <td>13</td>\n",
       "      <td>0.046071</td>\n",
       "      <td>7</td>\n",
       "      <td>0.076375</td>\n",
       "    </tr>\n",
       "    <tr>\n",
       "      <th>3</th>\n",
       "      <td>18</td>\n",
       "      <td>0.491259</td>\n",
       "      <td>18</td>\n",
       "      <td>0.267750</td>\n",
       "      <td>2</td>\n",
       "      <td>0.480176</td>\n",
       "    </tr>\n",
       "    <tr>\n",
       "      <th>4</th>\n",
       "      <td>28</td>\n",
       "      <td>2.317775</td>\n",
       "      <td>28</td>\n",
       "      <td>1.189879</td>\n",
       "      <td>17</td>\n",
       "      <td>2.231995</td>\n",
       "    </tr>\n",
       "    <tr>\n",
       "      <th>5</th>\n",
       "      <td>27</td>\n",
       "      <td>7.920997</td>\n",
       "      <td>27</td>\n",
       "      <td>4.680076</td>\n",
       "      <td>20</td>\n",
       "      <td>6.037426</td>\n",
       "    </tr>\n",
       "    <tr>\n",
       "      <th>6</th>\n",
       "      <td>35</td>\n",
       "      <td>22.295591</td>\n",
       "      <td>35</td>\n",
       "      <td>11.294452</td>\n",
       "      <td>28</td>\n",
       "      <td>17.181511</td>\n",
       "    </tr>\n",
       "    <tr>\n",
       "      <th>7</th>\n",
       "      <td>43</td>\n",
       "      <td>54.090836</td>\n",
       "      <td></td>\n",
       "      <td>14.832023</td>\n",
       "      <td>34</td>\n",
       "      <td>37.361578</td>\n",
       "    </tr>\n",
       "    <tr>\n",
       "      <th>8</th>\n",
       "      <td>42</td>\n",
       "      <td>121.747406</td>\n",
       "      <td></td>\n",
       "      <td>7.092539</td>\n",
       "      <td>34</td>\n",
       "      <td>80.600000</td>\n",
       "    </tr>\n",
       "    <tr>\n",
       "      <th>9</th>\n",
       "      <td>56</td>\n",
       "      <td>245.927168</td>\n",
       "      <td></td>\n",
       "      <td>5.882218</td>\n",
       "      <td>49</td>\n",
       "      <td>159.593130</td>\n",
       "    </tr>\n",
       "  </tbody>\n",
       "</table>\n",
       "</div>"
      ],
      "text/plain": [
       "  busca_exaustiva_smith_waterman             exaustiva-paralela             \\\n",
       "                         results       times            results      times   \n",
       "0                              0    0.006759                  0   0.006095   \n",
       "1                              6    0.008507                  6   0.008383   \n",
       "2                             13    0.070113                 13   0.046071   \n",
       "3                             18    0.491259                 18   0.267750   \n",
       "4                             28    2.317775                 28   1.189879   \n",
       "5                             27    7.920997                 27   4.680076   \n",
       "6                             35   22.295591                 35  11.294452   \n",
       "7                             43   54.090836                     14.832023   \n",
       "8                             42  121.747406                      7.092539   \n",
       "9                             56  245.927168                      5.882218   \n",
       "\n",
       "  exaustiva-paralela-reduce              \n",
       "                    results       times  \n",
       "0                         0    0.018713  \n",
       "1                         4    0.011590  \n",
       "2                         7    0.076375  \n",
       "3                         2    0.480176  \n",
       "4                        17    2.231995  \n",
       "5                        20    6.037426  \n",
       "6                        28   17.181511  \n",
       "7                        34   37.361578  \n",
       "8                        34   80.600000  \n",
       "9                        49  159.593130  "
      ]
     },
     "execution_count": 12,
     "metadata": {},
     "output_type": "execute_result"
    }
   ],
   "source": [
    "multiIndex_df_all10_all10 = pd.DataFrame(multi_df(dic_all10))\n",
    "multiIndex_df_all10"
   ]
  },
  {
   "cell_type": "code",
   "execution_count": 28,
   "metadata": {},
   "outputs": [
    {
     "ename": "ValueError",
     "evalue": "x and y must have same first dimension, but have shapes (10,) and (20,)",
     "output_type": "error",
     "traceback": [
      "\u001b[0;31m---------------------------------------------------------------------------\u001b[0m",
      "\u001b[0;31mValueError\u001b[0m                                Traceback (most recent call last)",
      "\u001b[0;32m<ipython-input-28-5e4295d5d979>\u001b[0m in \u001b[0;36m<module>\u001b[0;34m\u001b[0m\n\u001b[1;32m      4\u001b[0m \u001b[0;34m\u001b[0m\u001b[0m\n\u001b[1;32m      5\u001b[0m \u001b[0;32mfor\u001b[0m \u001b[0mexe\u001b[0m \u001b[0;32min\u001b[0m \u001b[0mdf\u001b[0m\u001b[0;34m.\u001b[0m\u001b[0mcolumns\u001b[0m\u001b[0;34m.\u001b[0m\u001b[0mvalues\u001b[0m\u001b[0;34m.\u001b[0m\u001b[0mtolist\u001b[0m\u001b[0;34m(\u001b[0m\u001b[0;34m)\u001b[0m\u001b[0;34m:\u001b[0m\u001b[0;34m\u001b[0m\u001b[0;34m\u001b[0m\u001b[0m\n\u001b[0;32m----> 6\u001b[0;31m     \u001b[0mplt\u001b[0m\u001b[0;34m.\u001b[0m\u001b[0mplot\u001b[0m\u001b[0;34m(\u001b[0m\u001b[0mvalores\u001b[0m\u001b[0;34m,\u001b[0m\u001b[0mmultiIndex_df\u001b[0m\u001b[0;34m[\u001b[0m\u001b[0mexe\u001b[0m\u001b[0;34m]\u001b[0m\u001b[0;34m[\u001b[0m\u001b[0;34m\"times\"\u001b[0m\u001b[0;34m]\u001b[0m\u001b[0;34m.\u001b[0m\u001b[0mvalues\u001b[0m\u001b[0;34m,\u001b[0m \u001b[0mlabel\u001b[0m\u001b[0;34m=\u001b[0m\u001b[0mexe\u001b[0m\u001b[0;34m)\u001b[0m\u001b[0;34m\u001b[0m\u001b[0;34m\u001b[0m\u001b[0m\n\u001b[0m\u001b[1;32m      7\u001b[0m \u001b[0mplt\u001b[0m\u001b[0;34m.\u001b[0m\u001b[0mlegend\u001b[0m\u001b[0;34m(\u001b[0m\u001b[0;34m)\u001b[0m\u001b[0;34m\u001b[0m\u001b[0;34m\u001b[0m\u001b[0m\n\u001b[1;32m      8\u001b[0m plt.xlabel(\"tamanho da sequência\", \n",
      "\u001b[0;32m~/.local/lib/python3.8/site-packages/matplotlib/pyplot.py\u001b[0m in \u001b[0;36mplot\u001b[0;34m(scalex, scaley, data, *args, **kwargs)\u001b[0m\n\u001b[1;32m   2986\u001b[0m \u001b[0;34m@\u001b[0m\u001b[0m_copy_docstring_and_deprecators\u001b[0m\u001b[0;34m(\u001b[0m\u001b[0mAxes\u001b[0m\u001b[0;34m.\u001b[0m\u001b[0mplot\u001b[0m\u001b[0;34m)\u001b[0m\u001b[0;34m\u001b[0m\u001b[0;34m\u001b[0m\u001b[0m\n\u001b[1;32m   2987\u001b[0m \u001b[0;32mdef\u001b[0m \u001b[0mplot\u001b[0m\u001b[0;34m(\u001b[0m\u001b[0;34m*\u001b[0m\u001b[0margs\u001b[0m\u001b[0;34m,\u001b[0m \u001b[0mscalex\u001b[0m\u001b[0;34m=\u001b[0m\u001b[0;32mTrue\u001b[0m\u001b[0;34m,\u001b[0m \u001b[0mscaley\u001b[0m\u001b[0;34m=\u001b[0m\u001b[0;32mTrue\u001b[0m\u001b[0;34m,\u001b[0m \u001b[0mdata\u001b[0m\u001b[0;34m=\u001b[0m\u001b[0;32mNone\u001b[0m\u001b[0;34m,\u001b[0m \u001b[0;34m**\u001b[0m\u001b[0mkwargs\u001b[0m\u001b[0;34m)\u001b[0m\u001b[0;34m:\u001b[0m\u001b[0;34m\u001b[0m\u001b[0;34m\u001b[0m\u001b[0m\n\u001b[0;32m-> 2988\u001b[0;31m     return gca().plot(\n\u001b[0m\u001b[1;32m   2989\u001b[0m         \u001b[0;34m*\u001b[0m\u001b[0margs\u001b[0m\u001b[0;34m,\u001b[0m \u001b[0mscalex\u001b[0m\u001b[0;34m=\u001b[0m\u001b[0mscalex\u001b[0m\u001b[0;34m,\u001b[0m \u001b[0mscaley\u001b[0m\u001b[0;34m=\u001b[0m\u001b[0mscaley\u001b[0m\u001b[0;34m,\u001b[0m\u001b[0;34m\u001b[0m\u001b[0;34m\u001b[0m\u001b[0m\n\u001b[1;32m   2990\u001b[0m         **({\"data\": data} if data is not None else {}), **kwargs)\n",
      "\u001b[0;32m~/.local/lib/python3.8/site-packages/matplotlib/axes/_axes.py\u001b[0m in \u001b[0;36mplot\u001b[0;34m(self, scalex, scaley, data, *args, **kwargs)\u001b[0m\n\u001b[1;32m   1603\u001b[0m         \"\"\"\n\u001b[1;32m   1604\u001b[0m         \u001b[0mkwargs\u001b[0m \u001b[0;34m=\u001b[0m \u001b[0mcbook\u001b[0m\u001b[0;34m.\u001b[0m\u001b[0mnormalize_kwargs\u001b[0m\u001b[0;34m(\u001b[0m\u001b[0mkwargs\u001b[0m\u001b[0;34m,\u001b[0m \u001b[0mmlines\u001b[0m\u001b[0;34m.\u001b[0m\u001b[0mLine2D\u001b[0m\u001b[0;34m)\u001b[0m\u001b[0;34m\u001b[0m\u001b[0;34m\u001b[0m\u001b[0m\n\u001b[0;32m-> 1605\u001b[0;31m         \u001b[0mlines\u001b[0m \u001b[0;34m=\u001b[0m \u001b[0;34m[\u001b[0m\u001b[0;34m*\u001b[0m\u001b[0mself\u001b[0m\u001b[0;34m.\u001b[0m\u001b[0m_get_lines\u001b[0m\u001b[0;34m(\u001b[0m\u001b[0;34m*\u001b[0m\u001b[0margs\u001b[0m\u001b[0;34m,\u001b[0m \u001b[0mdata\u001b[0m\u001b[0;34m=\u001b[0m\u001b[0mdata\u001b[0m\u001b[0;34m,\u001b[0m \u001b[0;34m**\u001b[0m\u001b[0mkwargs\u001b[0m\u001b[0;34m)\u001b[0m\u001b[0;34m]\u001b[0m\u001b[0;34m\u001b[0m\u001b[0;34m\u001b[0m\u001b[0m\n\u001b[0m\u001b[1;32m   1606\u001b[0m         \u001b[0;32mfor\u001b[0m \u001b[0mline\u001b[0m \u001b[0;32min\u001b[0m \u001b[0mlines\u001b[0m\u001b[0;34m:\u001b[0m\u001b[0;34m\u001b[0m\u001b[0;34m\u001b[0m\u001b[0m\n\u001b[1;32m   1607\u001b[0m             \u001b[0mself\u001b[0m\u001b[0;34m.\u001b[0m\u001b[0madd_line\u001b[0m\u001b[0;34m(\u001b[0m\u001b[0mline\u001b[0m\u001b[0;34m)\u001b[0m\u001b[0;34m\u001b[0m\u001b[0;34m\u001b[0m\u001b[0m\n",
      "\u001b[0;32m~/.local/lib/python3.8/site-packages/matplotlib/axes/_base.py\u001b[0m in \u001b[0;36m__call__\u001b[0;34m(self, data, *args, **kwargs)\u001b[0m\n\u001b[1;32m    313\u001b[0m                 \u001b[0mthis\u001b[0m \u001b[0;34m+=\u001b[0m \u001b[0margs\u001b[0m\u001b[0;34m[\u001b[0m\u001b[0;36m0\u001b[0m\u001b[0;34m]\u001b[0m\u001b[0;34m,\u001b[0m\u001b[0;34m\u001b[0m\u001b[0;34m\u001b[0m\u001b[0m\n\u001b[1;32m    314\u001b[0m                 \u001b[0margs\u001b[0m \u001b[0;34m=\u001b[0m \u001b[0margs\u001b[0m\u001b[0;34m[\u001b[0m\u001b[0;36m1\u001b[0m\u001b[0;34m:\u001b[0m\u001b[0;34m]\u001b[0m\u001b[0;34m\u001b[0m\u001b[0;34m\u001b[0m\u001b[0m\n\u001b[0;32m--> 315\u001b[0;31m             \u001b[0;32myield\u001b[0m \u001b[0;32mfrom\u001b[0m \u001b[0mself\u001b[0m\u001b[0;34m.\u001b[0m\u001b[0m_plot_args\u001b[0m\u001b[0;34m(\u001b[0m\u001b[0mthis\u001b[0m\u001b[0;34m,\u001b[0m \u001b[0mkwargs\u001b[0m\u001b[0;34m)\u001b[0m\u001b[0;34m\u001b[0m\u001b[0;34m\u001b[0m\u001b[0m\n\u001b[0m\u001b[1;32m    316\u001b[0m \u001b[0;34m\u001b[0m\u001b[0m\n\u001b[1;32m    317\u001b[0m     \u001b[0;32mdef\u001b[0m \u001b[0mget_next_color\u001b[0m\u001b[0;34m(\u001b[0m\u001b[0mself\u001b[0m\u001b[0;34m)\u001b[0m\u001b[0;34m:\u001b[0m\u001b[0;34m\u001b[0m\u001b[0;34m\u001b[0m\u001b[0m\n",
      "\u001b[0;32m~/.local/lib/python3.8/site-packages/matplotlib/axes/_base.py\u001b[0m in \u001b[0;36m_plot_args\u001b[0;34m(self, tup, kwargs, return_kwargs)\u001b[0m\n\u001b[1;32m    499\u001b[0m \u001b[0;34m\u001b[0m\u001b[0m\n\u001b[1;32m    500\u001b[0m         \u001b[0;32mif\u001b[0m \u001b[0mx\u001b[0m\u001b[0;34m.\u001b[0m\u001b[0mshape\u001b[0m\u001b[0;34m[\u001b[0m\u001b[0;36m0\u001b[0m\u001b[0;34m]\u001b[0m \u001b[0;34m!=\u001b[0m \u001b[0my\u001b[0m\u001b[0;34m.\u001b[0m\u001b[0mshape\u001b[0m\u001b[0;34m[\u001b[0m\u001b[0;36m0\u001b[0m\u001b[0;34m]\u001b[0m\u001b[0;34m:\u001b[0m\u001b[0;34m\u001b[0m\u001b[0;34m\u001b[0m\u001b[0m\n\u001b[0;32m--> 501\u001b[0;31m             raise ValueError(f\"x and y must have same first dimension, but \"\n\u001b[0m\u001b[1;32m    502\u001b[0m                              f\"have shapes {x.shape} and {y.shape}\")\n\u001b[1;32m    503\u001b[0m         \u001b[0;32mif\u001b[0m \u001b[0mx\u001b[0m\u001b[0;34m.\u001b[0m\u001b[0mndim\u001b[0m \u001b[0;34m>\u001b[0m \u001b[0;36m2\u001b[0m \u001b[0;32mor\u001b[0m \u001b[0my\u001b[0m\u001b[0;34m.\u001b[0m\u001b[0mndim\u001b[0m \u001b[0;34m>\u001b[0m \u001b[0;36m2\u001b[0m\u001b[0;34m:\u001b[0m\u001b[0;34m\u001b[0m\u001b[0;34m\u001b[0m\u001b[0m\n",
      "\u001b[0;31mValueError\u001b[0m: x and y must have same first dimension, but have shapes (10,) and (20,)"
     ]
    },
    {
     "data": {
      "image/png": "[encoded data removed]",
      "text/plain": [
       "<Figure size 432x288 with 1 Axes>"
      ]
     },
     "metadata": {
      "needs_background": "light"
     },
     "output_type": "display_data"
    }
   ],
   "source": [
    "valores=[1]\n",
    "for i in range (1,10):\n",
    "    valores.append(valores[i-1]+10)\n",
    "\n",
    "for exe in df.columns.values.tolist():\n",
    "    plt.plot(valores,multiIndex_df[exe][\"times\"].values, label=exe)\n",
    "plt.legend()\n",
    "plt.xlabel(\"tamanho da sequência\", \n",
    "           fontsize=15,\n",
    "          color=\"steelblue\")\n",
    "plt.ylabel(\"tempo\", \n",
    "           fontsize=15,\n",
    "          color=\"steelblue\")\n",
    "plt.title(label=\"Gráfico do tempo em função do tamanho da sequência\\n\",\n",
    "          fontsize=20,\n",
    "          color=\"teal\")"
   ]
  },
  {
   "cell_type": "code",
   "execution_count": null,
   "metadata": {},
   "outputs": [],
   "source": [
    "for exe in df.columns.values.tolist():\n",
    "    plt.plot(valores,multiIndex_df[exe][\"results\"].values.astype(float), label=exe)\n",
    "plt.legend()\n",
    "plt.xlabel(\"tamanho da sequência\", \n",
    "           fontsize=15,\n",
    "          color=\"steelblue\")\n",
    "plt.ylabel(\"valor máximo\", \n",
    "           fontsize=15,\n",
    "          color=\"steelblue\")\n",
    "plt.title(label=\"Gráfico do valor máximo encontrado em função do tamanho da sequência\\n\",\n",
    "          fontsize=20,\n",
    "          color=\"teal\")"
   ]
  },
  {
   "cell_type": "markdown",
   "metadata": {},
   "source": [
    "--------"
   ]
  },
  {
   "cell_type": "code",
   "execution_count": 13,
   "metadata": {},
   "outputs": [
    {
     "name": "stdout",
     "output_type": "stream",
     "text": [
      "exaustiva-paralela-reduce\n",
      "dna0.seq\n",
      "dna1.seq\n",
      "dna2.seq\n",
      "dna3.seq\n",
      "dna4.seq\n",
      "dna5.seq\n",
      "dna6.seq\n",
      "dna7.seq\n",
      "dna8.seq\n",
      "dna9.seq\n",
      "dna10.seq\n",
      "dna11.seq\n",
      "dna12.seq\n",
      "dna13.seq\n",
      "dna14.seq\n",
      "dna15.seq\n",
      "dna16.seq\n",
      "dna17.seq\n",
      "dna18.seq\n",
      "dna19.seq\n"
     ]
    }
   ],
   "source": [
    "executaveis = [\"exaustiva-paralela-reduce\"]\n",
    "arquivos=[]\n",
    "for i in range(20):\n",
    "    arquivos.append(f\"dna{i}.seq\")\n",
    "    \n",
    "dic = gera_resultados(\"in_exaustiva_maior\", arquivos, executaveis)"
   ]
  },
  {
   "cell_type": "code",
   "execution_count": 15,
   "metadata": {},
   "outputs": [
    {
     "data": {
      "text/html": [
       "<div>\n",
       "<style scoped>\n",
       "    .dataframe tbody tr th:only-of-type {\n",
       "        vertical-align: middle;\n",
       "    }\n",
       "\n",
       "    .dataframe tbody tr th {\n",
       "        vertical-align: top;\n",
       "    }\n",
       "\n",
       "    .dataframe thead th {\n",
       "        text-align: right;\n",
       "    }\n",
       "</style>\n",
       "<table border=\"1\" class=\"dataframe\">\n",
       "  <thead>\n",
       "    <tr style=\"text-align: right;\">\n",
       "      <th></th>\n",
       "      <th>exaustiva-paralela-reduce</th>\n",
       "    </tr>\n",
       "  </thead>\n",
       "  <tbody>\n",
       "    <tr>\n",
       "      <th>results</th>\n",
       "      <td>[3, 4, 2, 14, 11, 20, 11, 17, 15, 22, 16, 26, ...</td>\n",
       "    </tr>\n",
       "    <tr>\n",
       "      <th>times</th>\n",
       "      <td>[0.013041952999628847, 0.007993674999852374, 0...</td>\n",
       "    </tr>\n",
       "  </tbody>\n",
       "</table>\n",
       "</div>"
      ],
      "text/plain": [
       "                                 exaustiva-paralela-reduce\n",
       "results  [3, 4, 2, 14, 11, 20, 11, 17, 15, 22, 16, 26, ...\n",
       "times    [0.013041952999628847, 0.007993674999852374, 0..."
      ]
     },
     "execution_count": 15,
     "metadata": {},
     "output_type": "execute_result"
    }
   ],
   "source": [
    "df = pd.DataFrame(dic)\n",
    "df"
   ]
  },
  {
   "cell_type": "code",
   "execution_count": 16,
   "metadata": {},
   "outputs": [
    {
     "data": {
      "text/html": [
       "<div>\n",
       "<style scoped>\n",
       "    .dataframe tbody tr th:only-of-type {\n",
       "        vertical-align: middle;\n",
       "    }\n",
       "\n",
       "    .dataframe tbody tr th {\n",
       "        vertical-align: top;\n",
       "    }\n",
       "\n",
       "    .dataframe thead tr th {\n",
       "        text-align: left;\n",
       "    }\n",
       "</style>\n",
       "<table border=\"1\" class=\"dataframe\">\n",
       "  <thead>\n",
       "    <tr>\n",
       "      <th></th>\n",
       "      <th colspan=\"2\" halign=\"left\">exaustiva-paralela-reduce</th>\n",
       "    </tr>\n",
       "    <tr>\n",
       "      <th></th>\n",
       "      <th>results</th>\n",
       "      <th>times</th>\n",
       "    </tr>\n",
       "  </thead>\n",
       "  <tbody>\n",
       "    <tr>\n",
       "      <th>0</th>\n",
       "      <td>3</td>\n",
       "      <td>0.013042</td>\n",
       "    </tr>\n",
       "    <tr>\n",
       "      <th>1</th>\n",
       "      <td>4</td>\n",
       "      <td>0.007994</td>\n",
       "    </tr>\n",
       "    <tr>\n",
       "      <th>2</th>\n",
       "      <td>2</td>\n",
       "      <td>0.018617</td>\n",
       "    </tr>\n",
       "    <tr>\n",
       "      <th>3</th>\n",
       "      <td>14</td>\n",
       "      <td>0.049660</td>\n",
       "    </tr>\n",
       "    <tr>\n",
       "      <th>4</th>\n",
       "      <td>11</td>\n",
       "      <td>0.142966</td>\n",
       "    </tr>\n",
       "    <tr>\n",
       "      <th>5</th>\n",
       "      <td>20</td>\n",
       "      <td>0.358843</td>\n",
       "    </tr>\n",
       "    <tr>\n",
       "      <th>6</th>\n",
       "      <td>11</td>\n",
       "      <td>0.825071</td>\n",
       "    </tr>\n",
       "    <tr>\n",
       "      <th>7</th>\n",
       "      <td>17</td>\n",
       "      <td>1.713181</td>\n",
       "    </tr>\n",
       "    <tr>\n",
       "      <th>8</th>\n",
       "      <td>15</td>\n",
       "      <td>3.127525</td>\n",
       "    </tr>\n",
       "    <tr>\n",
       "      <th>9</th>\n",
       "      <td>22</td>\n",
       "      <td>5.213945</td>\n",
       "    </tr>\n",
       "    <tr>\n",
       "      <th>10</th>\n",
       "      <td>16</td>\n",
       "      <td>9.570199</td>\n",
       "    </tr>\n",
       "    <tr>\n",
       "      <th>11</th>\n",
       "      <td>26</td>\n",
       "      <td>14.429976</td>\n",
       "    </tr>\n",
       "    <tr>\n",
       "      <th>12</th>\n",
       "      <td>31</td>\n",
       "      <td>23.100726</td>\n",
       "    </tr>\n",
       "    <tr>\n",
       "      <th>13</th>\n",
       "      <td>33</td>\n",
       "      <td>34.814206</td>\n",
       "    </tr>\n",
       "    <tr>\n",
       "      <th>14</th>\n",
       "      <td>28</td>\n",
       "      <td>51.595547</td>\n",
       "    </tr>\n",
       "    <tr>\n",
       "      <th>15</th>\n",
       "      <td>30</td>\n",
       "      <td>74.292429</td>\n",
       "    </tr>\n",
       "    <tr>\n",
       "      <th>16</th>\n",
       "      <td>37</td>\n",
       "      <td>106.867615</td>\n",
       "    </tr>\n",
       "    <tr>\n",
       "      <th>17</th>\n",
       "      <td>41</td>\n",
       "      <td>148.229454</td>\n",
       "    </tr>\n",
       "    <tr>\n",
       "      <th>18</th>\n",
       "      <td>42</td>\n",
       "      <td>205.466989</td>\n",
       "    </tr>\n",
       "    <tr>\n",
       "      <th>19</th>\n",
       "      <td>44</td>\n",
       "      <td>231.519476</td>\n",
       "    </tr>\n",
       "  </tbody>\n",
       "</table>\n",
       "</div>"
      ],
      "text/plain": [
       "   exaustiva-paralela-reduce            \n",
       "                     results       times\n",
       "0                          3    0.013042\n",
       "1                          4    0.007994\n",
       "2                          2    0.018617\n",
       "3                         14    0.049660\n",
       "4                         11    0.142966\n",
       "5                         20    0.358843\n",
       "6                         11    0.825071\n",
       "7                         17    1.713181\n",
       "8                         15    3.127525\n",
       "9                         22    5.213945\n",
       "10                        16    9.570199\n",
       "11                        26   14.429976\n",
       "12                        31   23.100726\n",
       "13                        33   34.814206\n",
       "14                        28   51.595547\n",
       "15                        30   74.292429\n",
       "16                        37  106.867615\n",
       "17                        41  148.229454\n",
       "18                        42  205.466989\n",
       "19                        44  231.519476"
      ]
     },
     "execution_count": 16,
     "metadata": {},
     "output_type": "execute_result"
    }
   ],
   "source": [
    "multiIndex_df = pd.DataFrame(multi_df(dic))\n",
    "multiIndex_df"
   ]
  },
  {
   "cell_type": "markdown",
   "metadata": {},
   "source": [
    "##### Gráfico da comparação de tempo"
   ]
  },
  {
   "cell_type": "code",
   "execution_count": 19,
   "metadata": {},
   "outputs": [
    {
     "data": {
      "text/plain": [
       "Text(0.5, 1.0, 'Gráfico do tempo em função do tamanho da sequência\\n')"
      ]
     },
     "execution_count": 19,
     "metadata": {},
     "output_type": "execute_result"
    },
    {
     "data": {
      "image/png": "[encoded data removed]",
      "text/plain": [
       "<Figure size 432x288 with 1 Axes>"
      ]
     },
     "metadata": {
      "needs_background": "light"
     },
     "output_type": "display_data"
    }
   ],
   "source": [
    "valores=[1]\n",
    "for i in range (1,20):\n",
    "    valores.append(valores[i-1]+10)\n",
    "\n",
    "for exe in df.columns.values.tolist():\n",
    "    plt.plot(valores,multiIndex_df[exe][\"times\"].values, label=exe)\n",
    "plt.legend()\n",
    "plt.xlabel(\"tamanho da sequência\", \n",
    "           fontsize=15,\n",
    "          color=\"steelblue\")\n",
    "plt.ylabel(\"tempo\", \n",
    "           fontsize=15,\n",
    "          color=\"steelblue\")\n",
    "plt.title(label=\"Gráfico do tempo em função do tamanho da sequência\\n\",\n",
    "          fontsize=20,\n",
    "          color=\"teal\")"
   ]
  },
  {
   "cell_type": "markdown",
   "metadata": {},
   "source": [
    "##### Gráfico da comparação de valores"
   ]
  },
  {
   "cell_type": "code",
   "execution_count": 20,
   "metadata": {},
   "outputs": [
    {
     "data": {
      "text/plain": [
       "Text(0.5, 1.0, 'Gráfico do valor máximo encontrado em função do tamanho da sequência\\n')"
      ]
     },
     "execution_count": 20,
     "metadata": {},
     "output_type": "execute_result"
    },
    {
     "data": {
      "image/png": "[encoded data removed]",
      "text/plain": [
       "<Figure size 432x288 with 1 Axes>"
      ]
     },
     "metadata": {
      "needs_background": "light"
     },
     "output_type": "display_data"
    }
   ],
   "source": [
    "for exe in df.columns.values.tolist():\n",
    "    plt.plot(valores,multiIndex_df[exe][\"results\"].values.astype(float), label=exe)\n",
    "plt.legend()\n",
    "plt.xlabel(\"tamanho da sequência\", \n",
    "           fontsize=15,\n",
    "          color=\"steelblue\")\n",
    "plt.ylabel(\"valor máximo\", \n",
    "           fontsize=15,\n",
    "          color=\"steelblue\")\n",
    "plt.title(label=\"Gráfico do valor máximo encontrado em função do tamanho da sequência\\n\",\n",
    "          fontsize=20,\n",
    "          color=\"teal\")"
   ]
  },
  {
   "cell_type": "markdown",
   "metadata": {},
   "source": [
    "### Análise e conclusões"
   ]
  },
  {
   "cell_type": "code",
   "execution_count": null,
   "metadata": {},
   "outputs": [],
   "source": []
  }
 ],
 "metadata": {
  "kernelspec": {
   "display_name": "Python 3",
   "language": "python",
   "name": "python3"
  },
  "language_info": {
   "codemirror_mode": {
    "name": "ipython",
    "version": 3
   },
   "file_extension": ".py",
   "mimetype": "text/x-python",
   "name": "python",
   "nbconvert_exporter": "python",
   "pygments_lexer": "ipython3",
   "version": "3.8.10"
  }
 },
 "nbformat": 4,
 "nbformat_minor": 2
}
